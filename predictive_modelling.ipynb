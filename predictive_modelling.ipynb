{
  "nbformat": 4,
  "nbformat_minor": 0,
  "metadata": {
    "colab": {
      "provenance": [],
      "collapsed_sections": [
        "wUiiJWuayway",
        "fhe6kaBmLXpx",
        "wZkor0kfLlcr",
        "uaT1F7IBMTDq",
        "kCdaNzV1qESf"
      ],
      "toc_visible": true
    },
    "kernelspec": {
      "name": "python3",
      "display_name": "Python 3"
    },
    "language_info": {
      "name": "python"
    },
    "accelerator": "GPU",
    "gpuClass": "standard"
  },
  "cells": [
    {
      "cell_type": "markdown",
      "source": [
        "**Predictive Modelling**"
      ],
      "metadata": {
        "id": "bCe6p13my_Bz"
      }
    },
    {
      "cell_type": "markdown",
      "source": [
        "Importing libs and loding data"
      ],
      "metadata": {
        "id": "s76FKCxdzLzN"
      }
    },
    {
      "cell_type": "code",
      "execution_count": 1,
      "metadata": {
        "id": "wNxFs8n8t7m8",
        "colab": {
          "base_uri": "https://localhost:8080/"
        },
        "outputId": "a3c91265-67e0-4f27-c555-178ecfa45830"
      },
      "outputs": [
        {
          "output_type": "stream",
          "name": "stdout",
          "text": [
            "\u001b[2K     \u001b[90m━━━━━━━━━━━━━━━━━━━━━━━━━━━━━━━━━━━━━━━━\u001b[0m \u001b[32m1.1/1.1 MB\u001b[0m \u001b[31m58.9 MB/s\u001b[0m eta \u001b[36m0:00:00\u001b[0m\n",
            "\u001b[2K     \u001b[90m━━━━━━━━━━━━━━━━━━━━━━━━━━━━━━━━━━━━━━━━\u001b[0m \u001b[32m16.1/16.1 MB\u001b[0m \u001b[31m80.8 MB/s\u001b[0m eta \u001b[36m0:00:00\u001b[0m\n",
            "\u001b[2K     \u001b[90m━━━━━━━━━━━━━━━━━━━━━━━━━━━━━━━━━━━━━━━━\u001b[0m \u001b[32m7.8/7.8 MB\u001b[0m \u001b[31m103.8 MB/s\u001b[0m eta \u001b[36m0:00:00\u001b[0m\n",
            "\u001b[?25h"
          ]
        }
      ],
      "source": [
        "!pip install geopandas xgboost --quiet"
      ]
    },
    {
      "cell_type": "code",
      "source": [
        "import geopandas as gpd\n",
        "import sklearn as sk\n",
        "import pandas as pd\n",
        "import numpy as np\n",
        "import matplotlib.pyplot as plt\n",
        "from sklearn.preprocessing import LabelEncoder, StandardScaler\n",
        "import xgboost as xgb\n",
        "from sklearn.model_selection import train_test_split\n",
        "from sklearn.metrics import mean_squared_error\n"
      ],
      "metadata": {
        "id": "Vh432CRpuBlK"
      },
      "execution_count": 2,
      "outputs": []
    },
    {
      "cell_type": "code",
      "source": [
        "df = gpd.read_file(\"/content/drive/MyDrive/lehd/NYC Area2010_2data.shp\")"
      ],
      "metadata": {
        "id": "GC7epzcNuciC"
      },
      "execution_count": 3,
      "outputs": []
    },
    {
      "cell_type": "code",
      "source": [
        "df.shape"
      ],
      "metadata": {
        "colab": {
          "base_uri": "https://localhost:8080/"
        },
        "id": "QHc7eGfS_g7K",
        "outputId": "7c336d31-be68-4e0b-b10e-f4feb15bbf6c"
      },
      "execution_count": 4,
      "outputs": [
        {
          "output_type": "execute_result",
          "data": {
            "text/plain": [
              "(108487, 71)"
            ]
          },
          "metadata": {},
          "execution_count": 4
        }
      ]
    },
    {
      "cell_type": "code",
      "source": [
        "df.columns"
      ],
      "metadata": {
        "colab": {
          "base_uri": "https://localhost:8080/"
        },
        "id": "a2grmk4Xun_y",
        "outputId": "6af22187-27ee-47cd-a93f-3bf09ac9e745"
      },
      "execution_count": 5,
      "outputs": [
        {
          "output_type": "execute_result",
          "data": {
            "text/plain": [
              "Index(['STATEFP10', 'COUNTYFP10', 'TRACTCE10', 'BLOCKCE10', 'GEOID10',\n",
              "       'NAME10', 'MTFCC10', 'UR10', 'UACE10', 'UATYP10', 'FUNCSTAT10',\n",
              "       'ALAND10', 'AWATER10', 'INTPTLAT10', 'INTPTLON10', 'GISJOIN',\n",
              "       'Shape_area', 'Shape_len', 'C000_02', 'CE01_02', 'CE02_02', 'CE03_02',\n",
              "       'C000_03', 'CE01_03', 'CE02_03', 'CE03_03', 'C000_04', 'CE01_04',\n",
              "       'CE02_04', 'CE03_04', 'C000_05', 'CE01_05', 'CE02_05', 'CE03_05',\n",
              "       'C000_06', 'CE01_06', 'CE02_06', 'CE03_06', 'C000_07', 'CE01_07',\n",
              "       'CE02_07', 'CE03_07', 'C000_08', 'CE01_08', 'CE02_08', 'CE03_08',\n",
              "       'C000_09', 'CE01_09', 'CE02_09', 'CE03_09', 'C000_10', 'CE01_10',\n",
              "       'CE02_10', 'CE03_10', 'C000_11', 'CE01_11', 'CE02_11', 'CE03_11',\n",
              "       'C000_12', 'CE01_12', 'CE02_12', 'CE03_12', 'C000_13', 'CE01_13',\n",
              "       'CE02_13', 'CE03_13', 'C000_14', 'CE01_14', 'CE02_14', 'CE03_14',\n",
              "       'geometry'],\n",
              "      dtype='object')"
            ]
          },
          "metadata": {},
          "execution_count": 5
        }
      ]
    },
    {
      "cell_type": "markdown",
      "source": [
        "**Variable Desription**\n",
        "\n",
        "\n",
        "---\n",
        "\n",
        "* STATEFP10\tState FIPS code\n",
        "* COUNTYFP10\tCounty FIPS code\n",
        "* TRACTCE10\tTract FIPS code\n",
        "* BLOCKCE10\tBlock FIPS code\n",
        "* GEOID10\tUnique Geographic identifier (FIPS code)\n",
        "* UR10\tUrban (U) - rural (R) classification\n",
        "* UACE10\tUrban area census code\n",
        "* UATYP10\tUrban type area. U: Urbanized areas of 50,000 people or more. C: Urban Clusters (UCs) of at least 2,500 and less than 50,000 people.\n",
        "* ALAND10\tLand area\n",
        "* AWATER10\tWater area\n",
        "* INTPTLAT10\tLatitude\n",
        "* INTPTLON10\tLongitude\n",
        "* Shape_area\tPolygon area\n",
        "* Shape_len\tPolygon length\n",
        "* C000_YR\tTotal number of jobs in year YR\n",
        "* CE01_YR\tNumber of jobs with earnings $1250/month or less in year YR\n",
        "\n",
        "* CE02_YR\tNumber of jobs with earnings $1251-3333/month in year YR\n",
        "\n",
        "* CE03_YR\tNumber of jobs with earnings greater than $3333/month in year YR\n",
        "\n"
      ],
      "metadata": {
        "id": "gSr6U3KHQpqM"
      }
    },
    {
      "cell_type": "markdown",
      "source": [
        "**The predictive modelling part is divided into 4 parts. *Each part have a diffrent model*.**\n",
        "\n",
        "\n",
        "---\n",
        "\n",
        "1. Model 1 - Predict the total number of jobs in a given area (Target variable used C000_YR)\n",
        "\n",
        "2. Model 2 - Predict the number of low-earning jobs (earnings of $1250/month or less) in a given area (Target variable used CE01_YR)\n",
        "\n",
        "3. Model 3 - Predict the number of medium-earning jobs (earnings between $1251-3333/month) in a given area (Target variable used CE02_YR)\n",
        "\n",
        "4. Model 4 - Predict the number of high-earning jobs (earnings greater than $3333/month) in a given area (Target variable used CE03_YR)\n"
      ],
      "metadata": {
        "id": "VABIbilEN4sU"
      }
    },
    {
      "cell_type": "markdown",
      "source": [
        "## **Model 1 - Predict the total number of jobs in a given area (Target variable used C000_YR)**"
      ],
      "metadata": {
        "id": "wUiiJWuayway"
      }
    },
    {
      "cell_type": "markdown",
      "source": [
        "Based on ***'ALAND10', 'AWATER10', 'UR10', 'UATYP10', 'INTPTLAT10', 'INTPTLON10', 'Shape_area', 'Shape_len' and past 12 years of the total number of jobs*** we will predict the ***total number of jobs for the next year.***\n",
        "* ALAND10 (Land area)\n",
        "* AWATER10 (Water area)\n",
        "* UR10 (Urban - rural classification)\n",
        "* UATYP10 (Urban type area)\n",
        "* INTPTLAT10 (Latitude)\n",
        "* INTPTLON10 (Longitude)\n",
        "* Shape_area (Polygon area)\n",
        "* Shape_len (Polygon length)\n",
        "* C000_YR (Total number of jobs in year YR)\n"
      ],
      "metadata": {
        "id": "XJHh_4L3Fqo_"
      }
    },
    {
      "cell_type": "code",
      "source": [
        "past_12_years_columns = [(i<10 and f\"C000_0{i}\") or f\"C000_{i}\" for i in range(2,14)]\n",
        "last_year = df[[\"C000_14\"]] #13th year"
      ],
      "metadata": {
        "id": "t2Wl7TPMFKze"
      },
      "execution_count": 6,
      "outputs": []
    },
    {
      "cell_type": "code",
      "source": [
        "past_12_years_columns"
      ],
      "metadata": {
        "colab": {
          "base_uri": "https://localhost:8080/"
        },
        "id": "ZoSjLE9XFhKW",
        "outputId": "c74e1b0e-6b57-483f-c699-1e9e5760cace"
      },
      "execution_count": 7,
      "outputs": [
        {
          "output_type": "execute_result",
          "data": {
            "text/plain": [
              "['C000_02',\n",
              " 'C000_03',\n",
              " 'C000_04',\n",
              " 'C000_05',\n",
              " 'C000_06',\n",
              " 'C000_07',\n",
              " 'C000_08',\n",
              " 'C000_09',\n",
              " 'C000_10',\n",
              " 'C000_11',\n",
              " 'C000_12',\n",
              " 'C000_13']"
            ]
          },
          "metadata": {},
          "execution_count": 7
        }
      ]
    },
    {
      "cell_type": "code",
      "source": [
        "X = df[['ALAND10', 'AWATER10', 'UR10', 'UATYP10', 'INTPTLAT10', 'INTPTLON10', 'Shape_area', 'Shape_len']+past_12_years_columns].convert_dtypes()"
      ],
      "metadata": {
        "id": "UGGwqVXiwjIL"
      },
      "execution_count": 8,
      "outputs": []
    },
    {
      "cell_type": "code",
      "source": [
        "X.dtypes"
      ],
      "metadata": {
        "colab": {
          "base_uri": "https://localhost:8080/"
        },
        "id": "LWhQB1Ed_SQg",
        "outputId": "22e82191-2c27-40a1-bf0a-8c2aebacac8c"
      },
      "execution_count": 9,
      "outputs": [
        {
          "output_type": "execute_result",
          "data": {
            "text/plain": [
              "ALAND10         Int64\n",
              "AWATER10        Int64\n",
              "UR10           string\n",
              "UATYP10        string\n",
              "INTPTLAT10     string\n",
              "INTPTLON10     string\n",
              "Shape_area    Float64\n",
              "Shape_len     Float64\n",
              "C000_02         Int64\n",
              "C000_03         Int64\n",
              "C000_04         Int64\n",
              "C000_05         Int64\n",
              "C000_06         Int64\n",
              "C000_07         Int64\n",
              "C000_08         Int64\n",
              "C000_09         Int64\n",
              "C000_10         Int64\n",
              "C000_11         Int64\n",
              "C000_12         Int64\n",
              "C000_13         Int64\n",
              "dtype: object"
            ]
          },
          "metadata": {},
          "execution_count": 9
        }
      ]
    },
    {
      "cell_type": "code",
      "source": [
        "X[['UR10','UATYP10']] = X[['UR10','UATYP10']].fillna('missing_value')"
      ],
      "metadata": {
        "id": "pbhkHtk9CXcf"
      },
      "execution_count": 10,
      "outputs": []
    },
    {
      "cell_type": "code",
      "source": [
        "X['INTPTLAT10'] = pd.to_numeric(X['INTPTLAT10'])\n",
        "X['INTPTLON10'] = pd.to_numeric(X['INTPTLON10'])\n",
        "\n",
        "# Encode categorical variables\n",
        "le = LabelEncoder()\n",
        "for column in ['UR10','UATYP10']:\n",
        "    X[column] = le.fit_transform(X[column])\n",
        "\n",
        "# Scale numeric features\n",
        "scaler = StandardScaler()\n",
        "numeric_columns = ['ALAND10', 'AWATER10', 'INTPTLAT10', 'INTPTLON10', 'Shape_area', 'Shape_len']\n",
        "X[numeric_columns] = scaler.fit_transform(X[numeric_columns])"
      ],
      "metadata": {
        "id": "PSzkxcd1A58A"
      },
      "execution_count": 11,
      "outputs": []
    },
    {
      "cell_type": "code",
      "source": [
        "X.columns"
      ],
      "metadata": {
        "colab": {
          "base_uri": "https://localhost:8080/"
        },
        "id": "NPR0s-haCJ1p",
        "outputId": "f8cdaf54-36a3-4ead-e046-160ad47ab3e1"
      },
      "execution_count": 12,
      "outputs": [
        {
          "output_type": "execute_result",
          "data": {
            "text/plain": [
              "Index(['ALAND10', 'AWATER10', 'UR10', 'UATYP10', 'INTPTLAT10', 'INTPTLON10',\n",
              "       'Shape_area', 'Shape_len', 'C000_02', 'C000_03', 'C000_04', 'C000_05',\n",
              "       'C000_06', 'C000_07', 'C000_08', 'C000_09', 'C000_10', 'C000_11',\n",
              "       'C000_12', 'C000_13'],\n",
              "      dtype='object')"
            ]
          },
          "metadata": {},
          "execution_count": 12
        }
      ]
    },
    {
      "cell_type": "code",
      "source": [
        "y=last_year #this is the 13th year (target)"
      ],
      "metadata": {
        "id": "daKi5ysqEckH"
      },
      "execution_count": 13,
      "outputs": []
    },
    {
      "cell_type": "code",
      "source": [
        "missing_values = y.isna().sum()\n",
        "print(f\"Number of missing values in the target variable: {missing_values}\")\n"
      ],
      "metadata": {
        "colab": {
          "base_uri": "https://localhost:8080/"
        },
        "id": "LhLQbVH_EhBZ",
        "outputId": "57dcc6b6-a3bf-4362-f93e-7ae1d720e448"
      },
      "execution_count": 14,
      "outputs": [
        {
          "output_type": "stream",
          "name": "stdout",
          "text": [
            "Number of missing values in the target variable: C000_14    0\n",
            "dtype: int64\n"
          ]
        }
      ]
    },
    {
      "cell_type": "code",
      "source": [
        "X_train, X_test, y_train, y_test = train_test_split(X, y, test_size=0.2, random_state=42)\n",
        "model1 = xgb.XGBRegressor(objective='reg:squarederror', n_estimators=100, learning_rate=0.1, max_depth=3, random_state=42)\n",
        "model1.fit(X_train, y_train)\n"
      ],
      "metadata": {
        "colab": {
          "base_uri": "https://localhost:8080/",
          "height": 0
        },
        "id": "bRwcGYZoIeT9",
        "outputId": "3b23bf1a-780e-4e40-8f38-f2b89d03a79d"
      },
      "execution_count": 15,
      "outputs": [
        {
          "output_type": "execute_result",
          "data": {
            "text/plain": [
              "XGBRegressor(base_score=None, booster=None, callbacks=None,\n",
              "             colsample_bylevel=None, colsample_bynode=None,\n",
              "             colsample_bytree=None, early_stopping_rounds=None,\n",
              "             enable_categorical=False, eval_metric=None, feature_types=None,\n",
              "             gamma=None, gpu_id=None, grow_policy=None, importance_type=None,\n",
              "             interaction_constraints=None, learning_rate=0.1, max_bin=None,\n",
              "             max_cat_threshold=None, max_cat_to_onehot=None,\n",
              "             max_delta_step=None, max_depth=3, max_leaves=None,\n",
              "             min_child_weight=None, missing=nan, monotone_constraints=None,\n",
              "             n_estimators=100, n_jobs=None, num_parallel_tree=None,\n",
              "             predictor=None, random_state=42, ...)"
            ],
            "text/html": [
              "<style>#sk-container-id-1 {color: black;background-color: white;}#sk-container-id-1 pre{padding: 0;}#sk-container-id-1 div.sk-toggleable {background-color: white;}#sk-container-id-1 label.sk-toggleable__label {cursor: pointer;display: block;width: 100%;margin-bottom: 0;padding: 0.3em;box-sizing: border-box;text-align: center;}#sk-container-id-1 label.sk-toggleable__label-arrow:before {content: \"▸\";float: left;margin-right: 0.25em;color: #696969;}#sk-container-id-1 label.sk-toggleable__label-arrow:hover:before {color: black;}#sk-container-id-1 div.sk-estimator:hover label.sk-toggleable__label-arrow:before {color: black;}#sk-container-id-1 div.sk-toggleable__content {max-height: 0;max-width: 0;overflow: hidden;text-align: left;background-color: #f0f8ff;}#sk-container-id-1 div.sk-toggleable__content pre {margin: 0.2em;color: black;border-radius: 0.25em;background-color: #f0f8ff;}#sk-container-id-1 input.sk-toggleable__control:checked~div.sk-toggleable__content {max-height: 200px;max-width: 100%;overflow: auto;}#sk-container-id-1 input.sk-toggleable__control:checked~label.sk-toggleable__label-arrow:before {content: \"▾\";}#sk-container-id-1 div.sk-estimator input.sk-toggleable__control:checked~label.sk-toggleable__label {background-color: #d4ebff;}#sk-container-id-1 div.sk-label input.sk-toggleable__control:checked~label.sk-toggleable__label {background-color: #d4ebff;}#sk-container-id-1 input.sk-hidden--visually {border: 0;clip: rect(1px 1px 1px 1px);clip: rect(1px, 1px, 1px, 1px);height: 1px;margin: -1px;overflow: hidden;padding: 0;position: absolute;width: 1px;}#sk-container-id-1 div.sk-estimator {font-family: monospace;background-color: #f0f8ff;border: 1px dotted black;border-radius: 0.25em;box-sizing: border-box;margin-bottom: 0.5em;}#sk-container-id-1 div.sk-estimator:hover {background-color: #d4ebff;}#sk-container-id-1 div.sk-parallel-item::after {content: \"\";width: 100%;border-bottom: 1px solid gray;flex-grow: 1;}#sk-container-id-1 div.sk-label:hover label.sk-toggleable__label {background-color: #d4ebff;}#sk-container-id-1 div.sk-serial::before {content: \"\";position: absolute;border-left: 1px solid gray;box-sizing: border-box;top: 0;bottom: 0;left: 50%;z-index: 0;}#sk-container-id-1 div.sk-serial {display: flex;flex-direction: column;align-items: center;background-color: white;padding-right: 0.2em;padding-left: 0.2em;position: relative;}#sk-container-id-1 div.sk-item {position: relative;z-index: 1;}#sk-container-id-1 div.sk-parallel {display: flex;align-items: stretch;justify-content: center;background-color: white;position: relative;}#sk-container-id-1 div.sk-item::before, #sk-container-id-1 div.sk-parallel-item::before {content: \"\";position: absolute;border-left: 1px solid gray;box-sizing: border-box;top: 0;bottom: 0;left: 50%;z-index: -1;}#sk-container-id-1 div.sk-parallel-item {display: flex;flex-direction: column;z-index: 1;position: relative;background-color: white;}#sk-container-id-1 div.sk-parallel-item:first-child::after {align-self: flex-end;width: 50%;}#sk-container-id-1 div.sk-parallel-item:last-child::after {align-self: flex-start;width: 50%;}#sk-container-id-1 div.sk-parallel-item:only-child::after {width: 0;}#sk-container-id-1 div.sk-dashed-wrapped {border: 1px dashed gray;margin: 0 0.4em 0.5em 0.4em;box-sizing: border-box;padding-bottom: 0.4em;background-color: white;}#sk-container-id-1 div.sk-label label {font-family: monospace;font-weight: bold;display: inline-block;line-height: 1.2em;}#sk-container-id-1 div.sk-label-container {text-align: center;}#sk-container-id-1 div.sk-container {/* jupyter's `normalize.less` sets `[hidden] { display: none; }` but bootstrap.min.css set `[hidden] { display: none !important; }` so we also need the `!important` here to be able to override the default hidden behavior on the sphinx rendered scikit-learn.org. See: https://github.com/scikit-learn/scikit-learn/issues/21755 */display: inline-block !important;position: relative;}#sk-container-id-1 div.sk-text-repr-fallback {display: none;}</style><div id=\"sk-container-id-1\" class=\"sk-top-container\"><div class=\"sk-text-repr-fallback\"><pre>XGBRegressor(base_score=None, booster=None, callbacks=None,\n",
              "             colsample_bylevel=None, colsample_bynode=None,\n",
              "             colsample_bytree=None, early_stopping_rounds=None,\n",
              "             enable_categorical=False, eval_metric=None, feature_types=None,\n",
              "             gamma=None, gpu_id=None, grow_policy=None, importance_type=None,\n",
              "             interaction_constraints=None, learning_rate=0.1, max_bin=None,\n",
              "             max_cat_threshold=None, max_cat_to_onehot=None,\n",
              "             max_delta_step=None, max_depth=3, max_leaves=None,\n",
              "             min_child_weight=None, missing=nan, monotone_constraints=None,\n",
              "             n_estimators=100, n_jobs=None, num_parallel_tree=None,\n",
              "             predictor=None, random_state=42, ...)</pre><b>In a Jupyter environment, please rerun this cell to show the HTML representation or trust the notebook. <br />On GitHub, the HTML representation is unable to render, please try loading this page with nbviewer.org.</b></div><div class=\"sk-container\" hidden><div class=\"sk-item\"><div class=\"sk-estimator sk-toggleable\"><input class=\"sk-toggleable__control sk-hidden--visually\" id=\"sk-estimator-id-1\" type=\"checkbox\" checked><label for=\"sk-estimator-id-1\" class=\"sk-toggleable__label sk-toggleable__label-arrow\">XGBRegressor</label><div class=\"sk-toggleable__content\"><pre>XGBRegressor(base_score=None, booster=None, callbacks=None,\n",
              "             colsample_bylevel=None, colsample_bynode=None,\n",
              "             colsample_bytree=None, early_stopping_rounds=None,\n",
              "             enable_categorical=False, eval_metric=None, feature_types=None,\n",
              "             gamma=None, gpu_id=None, grow_policy=None, importance_type=None,\n",
              "             interaction_constraints=None, learning_rate=0.1, max_bin=None,\n",
              "             max_cat_threshold=None, max_cat_to_onehot=None,\n",
              "             max_delta_step=None, max_depth=3, max_leaves=None,\n",
              "             min_child_weight=None, missing=nan, monotone_constraints=None,\n",
              "             n_estimators=100, n_jobs=None, num_parallel_tree=None,\n",
              "             predictor=None, random_state=42, ...)</pre></div></div></div></div></div>"
            ]
          },
          "metadata": {},
          "execution_count": 15
        }
      ]
    },
    {
      "cell_type": "code",
      "source": [
        "y_pred = model1.predict(X_test)\n",
        "mse = mean_squared_error(y_test, y_pred)\n",
        "print(f\"Mean Squared Error: {mse}\")\n"
      ],
      "metadata": {
        "colab": {
          "base_uri": "https://localhost:8080/"
        },
        "id": "pjKo3RwgImx7",
        "outputId": "94803b74-cf6b-4991-cbb8-0c643e1a4673"
      },
      "execution_count": 16,
      "outputs": [
        {
          "output_type": "stream",
          "name": "stdout",
          "text": [
            "Mean Squared Error: 367.02930954901353\n"
          ]
        }
      ]
    },
    {
      "cell_type": "markdown",
      "source": [
        "Hence if a user is able to give \n",
        "\n",
        "---\n",
        "Inputs - \n",
        "1. ALAND10 (Land area)\n",
        "2.  AWATER10 (Water area)\n",
        "3.  UR10 (Urban - rural classification)\n",
        "4.  UATYP10 (Urban type area)\n",
        "5.  INTPTLAT10 (Latitude)\n",
        "6. INTPTLON10 (Longitude)\n",
        "7. Shape_area (Polygon area)\n",
        "8. Shape_len (Polygon length)\n",
        "9. C000_YR (Total number of jobs in year YR) (12 years of data)\n",
        "\n",
        "\n",
        "---\n",
        "\n",
        "\n",
        "Output - \n",
        "\n",
        "They can predict the total number of jobs in that given area for the next year!\n",
        "\n",
        "\n",
        "\n",
        "---\n",
        "\n",
        "\n",
        "\n",
        "---\n",
        "\n"
      ],
      "metadata": {
        "id": "DJFvLP5jKdQT"
      }
    },
    {
      "cell_type": "code",
      "source": [],
      "metadata": {
        "id": "LqD8MyHsKbbo"
      },
      "execution_count": 16,
      "outputs": []
    },
    {
      "cell_type": "markdown",
      "source": [
        "# **Model 2 - Predict the number of low-earning jobs (earnings of $1250/month or less) in a given area (Target variable used CE01_YR)**"
      ],
      "metadata": {
        "id": "fhe6kaBmLXpx"
      }
    },
    {
      "cell_type": "markdown",
      "source": [
        "Based on ***'ALAND10', 'AWATER10', 'UR10', 'UATYP10', 'INTPTLAT10', 'INTPTLON10', 'Shape_area', 'Shape_len' and past 12 years of the number of low-earning jobs*** we will predict the ***the number of low-earning jobs for next year***\n",
        "* ALAND10 (Land area)\n",
        "* AWATER10 (Water area)\n",
        "* UR10 (Urban - rural classification)\n",
        "* UATYP10 (Urban type area)\n",
        "* INTPTLAT10 (Latitude)\n",
        "* INTPTLON10 (Longitude)\n",
        "* Shape_area (Polygon area)\n",
        "* Shape_len (Polygon length)\n",
        "* CE01_YR (the number of low-earning jobs YR)\n"
      ],
      "metadata": {
        "id": "29r3D0MHPnLp"
      }
    },
    {
      "cell_type": "code",
      "source": [
        "past_12_years_columns = [(i<10 and f\"CE01_0{i}\") or f\"CE01_{i}\" for i in range(2,14)]\n",
        "last_year = df[[\"CE01_14\"]] #13th year"
      ],
      "metadata": {
        "id": "PjZng8LLPnLp"
      },
      "execution_count": 17,
      "outputs": []
    },
    {
      "cell_type": "code",
      "source": [
        "past_12_years_columns"
      ],
      "metadata": {
        "colab": {
          "base_uri": "https://localhost:8080/"
        },
        "outputId": "bd1d95ca-d6e7-4bf5-e95e-4cd8bd69df97",
        "id": "OzaYeplNPnLp"
      },
      "execution_count": 18,
      "outputs": [
        {
          "output_type": "execute_result",
          "data": {
            "text/plain": [
              "['CE01_02',\n",
              " 'CE01_03',\n",
              " 'CE01_04',\n",
              " 'CE01_05',\n",
              " 'CE01_06',\n",
              " 'CE01_07',\n",
              " 'CE01_08',\n",
              " 'CE01_09',\n",
              " 'CE01_10',\n",
              " 'CE01_11',\n",
              " 'CE01_12',\n",
              " 'CE01_13']"
            ]
          },
          "metadata": {},
          "execution_count": 18
        }
      ]
    },
    {
      "cell_type": "code",
      "source": [
        "X = df[['ALAND10', 'AWATER10', 'UR10', 'UATYP10', 'INTPTLAT10', 'INTPTLON10', 'Shape_area', 'Shape_len']+past_12_years_columns].convert_dtypes()"
      ],
      "metadata": {
        "id": "99cyBTHlPnLp"
      },
      "execution_count": 19,
      "outputs": []
    },
    {
      "cell_type": "code",
      "source": [
        "X.dtypes"
      ],
      "metadata": {
        "colab": {
          "base_uri": "https://localhost:8080/"
        },
        "outputId": "97a2b106-1c90-4c79-b2a2-e49465199a0a",
        "id": "8kErDOqyPnLp"
      },
      "execution_count": 20,
      "outputs": [
        {
          "output_type": "execute_result",
          "data": {
            "text/plain": [
              "ALAND10         Int64\n",
              "AWATER10        Int64\n",
              "UR10           string\n",
              "UATYP10        string\n",
              "INTPTLAT10     string\n",
              "INTPTLON10     string\n",
              "Shape_area    Float64\n",
              "Shape_len     Float64\n",
              "CE01_02         Int64\n",
              "CE01_03         Int64\n",
              "CE01_04         Int64\n",
              "CE01_05         Int64\n",
              "CE01_06         Int64\n",
              "CE01_07         Int64\n",
              "CE01_08         Int64\n",
              "CE01_09         Int64\n",
              "CE01_10         Int64\n",
              "CE01_11         Int64\n",
              "CE01_12         Int64\n",
              "CE01_13         Int64\n",
              "dtype: object"
            ]
          },
          "metadata": {},
          "execution_count": 20
        }
      ]
    },
    {
      "cell_type": "code",
      "source": [
        "X[['UR10','UATYP10']] = X[['UR10','UATYP10']].fillna('missing_value')"
      ],
      "metadata": {
        "id": "w-f12ATxPnLp"
      },
      "execution_count": 21,
      "outputs": []
    },
    {
      "cell_type": "code",
      "source": [
        "X['INTPTLAT10'] = pd.to_numeric(X['INTPTLAT10'])\n",
        "X['INTPTLON10'] = pd.to_numeric(X['INTPTLON10'])\n",
        "\n",
        "# Encode categorical variables\n",
        "le = LabelEncoder()\n",
        "for column in ['UR10','UATYP10']:\n",
        "    X[column] = le.fit_transform(X[column])\n",
        "\n",
        "# Scale numeric features\n",
        "scaler = StandardScaler()\n",
        "numeric_columns = ['ALAND10', 'AWATER10', 'INTPTLAT10', 'INTPTLON10', 'Shape_area', 'Shape_len']\n",
        "X[numeric_columns] = scaler.fit_transform(X[numeric_columns])"
      ],
      "metadata": {
        "id": "Qd2lDLD5PnLq"
      },
      "execution_count": 22,
      "outputs": []
    },
    {
      "cell_type": "code",
      "source": [
        "X.columns"
      ],
      "metadata": {
        "colab": {
          "base_uri": "https://localhost:8080/"
        },
        "outputId": "9f73fefa-2113-48f6-a5e2-493e563a2bd8",
        "id": "E0p3TE5YPnLq"
      },
      "execution_count": 23,
      "outputs": [
        {
          "output_type": "execute_result",
          "data": {
            "text/plain": [
              "Index(['ALAND10', 'AWATER10', 'UR10', 'UATYP10', 'INTPTLAT10', 'INTPTLON10',\n",
              "       'Shape_area', 'Shape_len', 'CE01_02', 'CE01_03', 'CE01_04', 'CE01_05',\n",
              "       'CE01_06', 'CE01_07', 'CE01_08', 'CE01_09', 'CE01_10', 'CE01_11',\n",
              "       'CE01_12', 'CE01_13'],\n",
              "      dtype='object')"
            ]
          },
          "metadata": {},
          "execution_count": 23
        }
      ]
    },
    {
      "cell_type": "code",
      "source": [
        "y=last_year #this is the 13th year (target)"
      ],
      "metadata": {
        "id": "u-7nvInLPnLq"
      },
      "execution_count": 24,
      "outputs": []
    },
    {
      "cell_type": "code",
      "source": [
        "missing_values = y.isna().sum()\n",
        "print(f\"Number of missing values in the target variable: {missing_values}\")\n"
      ],
      "metadata": {
        "colab": {
          "base_uri": "https://localhost:8080/"
        },
        "outputId": "4862ef7d-6c4b-4aed-edb7-4208ee3ec0ae",
        "id": "rt5i9j9nPnLq"
      },
      "execution_count": 25,
      "outputs": [
        {
          "output_type": "stream",
          "name": "stdout",
          "text": [
            "Number of missing values in the target variable: CE01_14    0\n",
            "dtype: int64\n"
          ]
        }
      ]
    },
    {
      "cell_type": "code",
      "source": [
        "X_train, X_test, y_train, y_test = train_test_split(X, y, test_size=0.2, random_state=42)\n",
        "model2 = xgb.XGBRegressor(objective='reg:squarederror', n_estimators=100, learning_rate=0.1, max_depth=3, random_state=42)\n",
        "model2.fit(X_train, y_train)\n"
      ],
      "metadata": {
        "colab": {
          "base_uri": "https://localhost:8080/",
          "height": 0
        },
        "outputId": "c6f94f4e-d2ac-4a9a-f432-abe8763405dc",
        "id": "HoE_3FcdPnLq"
      },
      "execution_count": 26,
      "outputs": [
        {
          "output_type": "execute_result",
          "data": {
            "text/plain": [
              "XGBRegressor(base_score=None, booster=None, callbacks=None,\n",
              "             colsample_bylevel=None, colsample_bynode=None,\n",
              "             colsample_bytree=None, early_stopping_rounds=None,\n",
              "             enable_categorical=False, eval_metric=None, feature_types=None,\n",
              "             gamma=None, gpu_id=None, grow_policy=None, importance_type=None,\n",
              "             interaction_constraints=None, learning_rate=0.1, max_bin=None,\n",
              "             max_cat_threshold=None, max_cat_to_onehot=None,\n",
              "             max_delta_step=None, max_depth=3, max_leaves=None,\n",
              "             min_child_weight=None, missing=nan, monotone_constraints=None,\n",
              "             n_estimators=100, n_jobs=None, num_parallel_tree=None,\n",
              "             predictor=None, random_state=42, ...)"
            ],
            "text/html": [
              "<style>#sk-container-id-2 {color: black;background-color: white;}#sk-container-id-2 pre{padding: 0;}#sk-container-id-2 div.sk-toggleable {background-color: white;}#sk-container-id-2 label.sk-toggleable__label {cursor: pointer;display: block;width: 100%;margin-bottom: 0;padding: 0.3em;box-sizing: border-box;text-align: center;}#sk-container-id-2 label.sk-toggleable__label-arrow:before {content: \"▸\";float: left;margin-right: 0.25em;color: #696969;}#sk-container-id-2 label.sk-toggleable__label-arrow:hover:before {color: black;}#sk-container-id-2 div.sk-estimator:hover label.sk-toggleable__label-arrow:before {color: black;}#sk-container-id-2 div.sk-toggleable__content {max-height: 0;max-width: 0;overflow: hidden;text-align: left;background-color: #f0f8ff;}#sk-container-id-2 div.sk-toggleable__content pre {margin: 0.2em;color: black;border-radius: 0.25em;background-color: #f0f8ff;}#sk-container-id-2 input.sk-toggleable__control:checked~div.sk-toggleable__content {max-height: 200px;max-width: 100%;overflow: auto;}#sk-container-id-2 input.sk-toggleable__control:checked~label.sk-toggleable__label-arrow:before {content: \"▾\";}#sk-container-id-2 div.sk-estimator input.sk-toggleable__control:checked~label.sk-toggleable__label {background-color: #d4ebff;}#sk-container-id-2 div.sk-label input.sk-toggleable__control:checked~label.sk-toggleable__label {background-color: #d4ebff;}#sk-container-id-2 input.sk-hidden--visually {border: 0;clip: rect(1px 1px 1px 1px);clip: rect(1px, 1px, 1px, 1px);height: 1px;margin: -1px;overflow: hidden;padding: 0;position: absolute;width: 1px;}#sk-container-id-2 div.sk-estimator {font-family: monospace;background-color: #f0f8ff;border: 1px dotted black;border-radius: 0.25em;box-sizing: border-box;margin-bottom: 0.5em;}#sk-container-id-2 div.sk-estimator:hover {background-color: #d4ebff;}#sk-container-id-2 div.sk-parallel-item::after {content: \"\";width: 100%;border-bottom: 1px solid gray;flex-grow: 1;}#sk-container-id-2 div.sk-label:hover label.sk-toggleable__label {background-color: #d4ebff;}#sk-container-id-2 div.sk-serial::before {content: \"\";position: absolute;border-left: 1px solid gray;box-sizing: border-box;top: 0;bottom: 0;left: 50%;z-index: 0;}#sk-container-id-2 div.sk-serial {display: flex;flex-direction: column;align-items: center;background-color: white;padding-right: 0.2em;padding-left: 0.2em;position: relative;}#sk-container-id-2 div.sk-item {position: relative;z-index: 1;}#sk-container-id-2 div.sk-parallel {display: flex;align-items: stretch;justify-content: center;background-color: white;position: relative;}#sk-container-id-2 div.sk-item::before, #sk-container-id-2 div.sk-parallel-item::before {content: \"\";position: absolute;border-left: 1px solid gray;box-sizing: border-box;top: 0;bottom: 0;left: 50%;z-index: -1;}#sk-container-id-2 div.sk-parallel-item {display: flex;flex-direction: column;z-index: 1;position: relative;background-color: white;}#sk-container-id-2 div.sk-parallel-item:first-child::after {align-self: flex-end;width: 50%;}#sk-container-id-2 div.sk-parallel-item:last-child::after {align-self: flex-start;width: 50%;}#sk-container-id-2 div.sk-parallel-item:only-child::after {width: 0;}#sk-container-id-2 div.sk-dashed-wrapped {border: 1px dashed gray;margin: 0 0.4em 0.5em 0.4em;box-sizing: border-box;padding-bottom: 0.4em;background-color: white;}#sk-container-id-2 div.sk-label label {font-family: monospace;font-weight: bold;display: inline-block;line-height: 1.2em;}#sk-container-id-2 div.sk-label-container {text-align: center;}#sk-container-id-2 div.sk-container {/* jupyter's `normalize.less` sets `[hidden] { display: none; }` but bootstrap.min.css set `[hidden] { display: none !important; }` so we also need the `!important` here to be able to override the default hidden behavior on the sphinx rendered scikit-learn.org. See: https://github.com/scikit-learn/scikit-learn/issues/21755 */display: inline-block !important;position: relative;}#sk-container-id-2 div.sk-text-repr-fallback {display: none;}</style><div id=\"sk-container-id-2\" class=\"sk-top-container\"><div class=\"sk-text-repr-fallback\"><pre>XGBRegressor(base_score=None, booster=None, callbacks=None,\n",
              "             colsample_bylevel=None, colsample_bynode=None,\n",
              "             colsample_bytree=None, early_stopping_rounds=None,\n",
              "             enable_categorical=False, eval_metric=None, feature_types=None,\n",
              "             gamma=None, gpu_id=None, grow_policy=None, importance_type=None,\n",
              "             interaction_constraints=None, learning_rate=0.1, max_bin=None,\n",
              "             max_cat_threshold=None, max_cat_to_onehot=None,\n",
              "             max_delta_step=None, max_depth=3, max_leaves=None,\n",
              "             min_child_weight=None, missing=nan, monotone_constraints=None,\n",
              "             n_estimators=100, n_jobs=None, num_parallel_tree=None,\n",
              "             predictor=None, random_state=42, ...)</pre><b>In a Jupyter environment, please rerun this cell to show the HTML representation or trust the notebook. <br />On GitHub, the HTML representation is unable to render, please try loading this page with nbviewer.org.</b></div><div class=\"sk-container\" hidden><div class=\"sk-item\"><div class=\"sk-estimator sk-toggleable\"><input class=\"sk-toggleable__control sk-hidden--visually\" id=\"sk-estimator-id-2\" type=\"checkbox\" checked><label for=\"sk-estimator-id-2\" class=\"sk-toggleable__label sk-toggleable__label-arrow\">XGBRegressor</label><div class=\"sk-toggleable__content\"><pre>XGBRegressor(base_score=None, booster=None, callbacks=None,\n",
              "             colsample_bylevel=None, colsample_bynode=None,\n",
              "             colsample_bytree=None, early_stopping_rounds=None,\n",
              "             enable_categorical=False, eval_metric=None, feature_types=None,\n",
              "             gamma=None, gpu_id=None, grow_policy=None, importance_type=None,\n",
              "             interaction_constraints=None, learning_rate=0.1, max_bin=None,\n",
              "             max_cat_threshold=None, max_cat_to_onehot=None,\n",
              "             max_delta_step=None, max_depth=3, max_leaves=None,\n",
              "             min_child_weight=None, missing=nan, monotone_constraints=None,\n",
              "             n_estimators=100, n_jobs=None, num_parallel_tree=None,\n",
              "             predictor=None, random_state=42, ...)</pre></div></div></div></div></div>"
            ]
          },
          "metadata": {},
          "execution_count": 26
        }
      ]
    },
    {
      "cell_type": "code",
      "source": [
        "y_pred = model2.predict(X_test)\n",
        "mse = mean_squared_error(y_test, y_pred)\n",
        "print(f\"Mean Squared Error: {mse}\")\n"
      ],
      "metadata": {
        "colab": {
          "base_uri": "https://localhost:8080/"
        },
        "outputId": "efd98e93-10e0-4200-a624-93cecfbeac79",
        "id": "THM_XIx8PnLq"
      },
      "execution_count": 27,
      "outputs": [
        {
          "output_type": "stream",
          "name": "stdout",
          "text": [
            "Mean Squared Error: 37.70886593075932\n"
          ]
        }
      ]
    },
    {
      "cell_type": "markdown",
      "source": [
        "Hence if a user is able to give \n",
        "\n",
        "---\n",
        "Inputs - \n",
        "1. ALAND10 (Land area)\n",
        "2.  AWATER10 (Water area)\n",
        "3.  UR10 (Urban - rural classification)\n",
        "4.  UATYP10 (Urban type area)\n",
        "5.  INTPTLAT10 (Latitude)\n",
        "6. INTPTLON10 (Longitude)\n",
        "7. Shape_area (Polygon area)\n",
        "8. Shape_len (Polygon length)\n",
        "9. CE01_YR (the number of low-earning jobs YR) (12 years of data)\n",
        "\n",
        "\n",
        "---\n",
        "\n",
        "\n",
        "Output - \n",
        "\n",
        "They can predict the number of low-earning jobs in that given area for the next year!\n",
        "\n",
        "\n",
        "\n",
        "---\n",
        "\n",
        "\n",
        "\n",
        "---\n",
        "\n"
      ],
      "metadata": {
        "id": "rvtRT36OPnLq"
      }
    },
    {
      "cell_type": "code",
      "source": [],
      "metadata": {
        "id": "4qsdsIpRPnLr"
      },
      "execution_count": 27,
      "outputs": []
    },
    {
      "cell_type": "markdown",
      "source": [
        "# **Model 3 - Predict the number of medium-earning jobs (earnings between $1251-3333/month) in a given area (Target variable used CE02_YR)**"
      ],
      "metadata": {
        "id": "wZkor0kfLlcr"
      }
    },
    {
      "cell_type": "markdown",
      "source": [
        "Based on ***'ALAND10', 'AWATER10', 'UR10', 'UATYP10', 'INTPTLAT10', 'INTPTLON10', 'Shape_area', 'Shape_len' and past 12 years of the number of medium-earning jobs*** we will predict the ***the number of medium-earning jobs for next year***\n",
        "* ALAND10 (Land area)\n",
        "* AWATER10 (Water area)\n",
        "* UR10 (Urban - rural classification)\n",
        "* UATYP10 (Urban type area)\n",
        "* INTPTLAT10 (Latitude)\n",
        "* INTPTLON10 (Longitude)\n",
        "* Shape_area (Polygon area)\n",
        "* Shape_len (Polygon length)\n",
        "* CE02_YR (the number of medium-earning jobs YR)\n"
      ],
      "metadata": {
        "id": "qYalqHRaTC7l"
      }
    },
    {
      "cell_type": "code",
      "source": [
        "past_12_years_columns = [(i<10 and f\"CE02_0{i}\") or f\"CE02_{i}\" for i in range(2,14)]\n",
        "last_year = df[[\"CE02_14\"]] #13th year"
      ],
      "metadata": {
        "id": "APuMxSDCTC7l"
      },
      "execution_count": 28,
      "outputs": []
    },
    {
      "cell_type": "code",
      "source": [
        "past_12_years_columns"
      ],
      "metadata": {
        "colab": {
          "base_uri": "https://localhost:8080/"
        },
        "outputId": "c2b22b47-adbd-41b3-f622-e829b16136c3",
        "id": "B3tpi9VFTC7m"
      },
      "execution_count": 29,
      "outputs": [
        {
          "output_type": "execute_result",
          "data": {
            "text/plain": [
              "['CE02_02',\n",
              " 'CE02_03',\n",
              " 'CE02_04',\n",
              " 'CE02_05',\n",
              " 'CE02_06',\n",
              " 'CE02_07',\n",
              " 'CE02_08',\n",
              " 'CE02_09',\n",
              " 'CE02_10',\n",
              " 'CE02_11',\n",
              " 'CE02_12',\n",
              " 'CE02_13']"
            ]
          },
          "metadata": {},
          "execution_count": 29
        }
      ]
    },
    {
      "cell_type": "code",
      "source": [
        "X = df[['ALAND10', 'AWATER10', 'UR10', 'UATYP10', 'INTPTLAT10', 'INTPTLON10', 'Shape_area', 'Shape_len']+past_12_years_columns].convert_dtypes()"
      ],
      "metadata": {
        "id": "NdmfBjkTTC7m"
      },
      "execution_count": 30,
      "outputs": []
    },
    {
      "cell_type": "code",
      "source": [
        "X.dtypes"
      ],
      "metadata": {
        "colab": {
          "base_uri": "https://localhost:8080/"
        },
        "outputId": "0769fd34-5d8b-4807-aaac-97169ce8fb16",
        "id": "AT59m0WhTC7m"
      },
      "execution_count": 31,
      "outputs": [
        {
          "output_type": "execute_result",
          "data": {
            "text/plain": [
              "ALAND10         Int64\n",
              "AWATER10        Int64\n",
              "UR10           string\n",
              "UATYP10        string\n",
              "INTPTLAT10     string\n",
              "INTPTLON10     string\n",
              "Shape_area    Float64\n",
              "Shape_len     Float64\n",
              "CE02_02         Int64\n",
              "CE02_03         Int64\n",
              "CE02_04         Int64\n",
              "CE02_05         Int64\n",
              "CE02_06         Int64\n",
              "CE02_07         Int64\n",
              "CE02_08         Int64\n",
              "CE02_09         Int64\n",
              "CE02_10         Int64\n",
              "CE02_11         Int64\n",
              "CE02_12         Int64\n",
              "CE02_13         Int64\n",
              "dtype: object"
            ]
          },
          "metadata": {},
          "execution_count": 31
        }
      ]
    },
    {
      "cell_type": "code",
      "source": [
        "X[['UR10','UATYP10']] = X[['UR10','UATYP10']].fillna('missing_value')"
      ],
      "metadata": {
        "id": "69kx1xS3TC7m"
      },
      "execution_count": 32,
      "outputs": []
    },
    {
      "cell_type": "code",
      "source": [
        "X['INTPTLAT10'] = pd.to_numeric(X['INTPTLAT10'])\n",
        "X['INTPTLON10'] = pd.to_numeric(X['INTPTLON10'])\n",
        "\n",
        "# Encode categorical variables\n",
        "le = LabelEncoder()\n",
        "for column in ['UR10','UATYP10']:\n",
        "    X[column] = le.fit_transform(X[column])\n",
        "\n",
        "# Scale numeric features\n",
        "scaler = StandardScaler()\n",
        "numeric_columns = ['ALAND10', 'AWATER10', 'INTPTLAT10', 'INTPTLON10', 'Shape_area', 'Shape_len']\n",
        "X[numeric_columns] = scaler.fit_transform(X[numeric_columns])"
      ],
      "metadata": {
        "id": "YdJvOTLhTC7m"
      },
      "execution_count": 33,
      "outputs": []
    },
    {
      "cell_type": "code",
      "source": [
        "X.columns"
      ],
      "metadata": {
        "colab": {
          "base_uri": "https://localhost:8080/"
        },
        "outputId": "8709b3a2-2186-4c84-abde-79f651e9459f",
        "id": "XKDtWajQTC7n"
      },
      "execution_count": 34,
      "outputs": [
        {
          "output_type": "execute_result",
          "data": {
            "text/plain": [
              "Index(['ALAND10', 'AWATER10', 'UR10', 'UATYP10', 'INTPTLAT10', 'INTPTLON10',\n",
              "       'Shape_area', 'Shape_len', 'CE02_02', 'CE02_03', 'CE02_04', 'CE02_05',\n",
              "       'CE02_06', 'CE02_07', 'CE02_08', 'CE02_09', 'CE02_10', 'CE02_11',\n",
              "       'CE02_12', 'CE02_13'],\n",
              "      dtype='object')"
            ]
          },
          "metadata": {},
          "execution_count": 34
        }
      ]
    },
    {
      "cell_type": "code",
      "source": [
        "y=last_year #this is the 13th year (target)"
      ],
      "metadata": {
        "id": "REN6zCTHTC7n"
      },
      "execution_count": 35,
      "outputs": []
    },
    {
      "cell_type": "code",
      "source": [
        "missing_values = y.isna().sum()\n",
        "print(f\"Number of missing values in the target variable: {missing_values}\")\n"
      ],
      "metadata": {
        "colab": {
          "base_uri": "https://localhost:8080/"
        },
        "outputId": "3e5339be-1a87-4716-e046-3267954458de",
        "id": "ppZwHbPOTC7n"
      },
      "execution_count": 36,
      "outputs": [
        {
          "output_type": "stream",
          "name": "stdout",
          "text": [
            "Number of missing values in the target variable: CE02_14    0\n",
            "dtype: int64\n"
          ]
        }
      ]
    },
    {
      "cell_type": "code",
      "source": [
        "X_train, X_test, y_train, y_test = train_test_split(X, y, test_size=0.2, random_state=42)\n",
        "model3 = xgb.XGBRegressor(objective='reg:squarederror', n_estimators=100, learning_rate=0.1, max_depth=3, random_state=42)\n",
        "model3.fit(X_train, y_train)\n"
      ],
      "metadata": {
        "colab": {
          "base_uri": "https://localhost:8080/",
          "height": 0
        },
        "outputId": "903c9874-cb9d-4953-9e57-0935e3237442",
        "id": "hWCIHJXZTC7n"
      },
      "execution_count": 37,
      "outputs": [
        {
          "output_type": "execute_result",
          "data": {
            "text/plain": [
              "XGBRegressor(base_score=None, booster=None, callbacks=None,\n",
              "             colsample_bylevel=None, colsample_bynode=None,\n",
              "             colsample_bytree=None, early_stopping_rounds=None,\n",
              "             enable_categorical=False, eval_metric=None, feature_types=None,\n",
              "             gamma=None, gpu_id=None, grow_policy=None, importance_type=None,\n",
              "             interaction_constraints=None, learning_rate=0.1, max_bin=None,\n",
              "             max_cat_threshold=None, max_cat_to_onehot=None,\n",
              "             max_delta_step=None, max_depth=3, max_leaves=None,\n",
              "             min_child_weight=None, missing=nan, monotone_constraints=None,\n",
              "             n_estimators=100, n_jobs=None, num_parallel_tree=None,\n",
              "             predictor=None, random_state=42, ...)"
            ],
            "text/html": [
              "<style>#sk-container-id-3 {color: black;background-color: white;}#sk-container-id-3 pre{padding: 0;}#sk-container-id-3 div.sk-toggleable {background-color: white;}#sk-container-id-3 label.sk-toggleable__label {cursor: pointer;display: block;width: 100%;margin-bottom: 0;padding: 0.3em;box-sizing: border-box;text-align: center;}#sk-container-id-3 label.sk-toggleable__label-arrow:before {content: \"▸\";float: left;margin-right: 0.25em;color: #696969;}#sk-container-id-3 label.sk-toggleable__label-arrow:hover:before {color: black;}#sk-container-id-3 div.sk-estimator:hover label.sk-toggleable__label-arrow:before {color: black;}#sk-container-id-3 div.sk-toggleable__content {max-height: 0;max-width: 0;overflow: hidden;text-align: left;background-color: #f0f8ff;}#sk-container-id-3 div.sk-toggleable__content pre {margin: 0.2em;color: black;border-radius: 0.25em;background-color: #f0f8ff;}#sk-container-id-3 input.sk-toggleable__control:checked~div.sk-toggleable__content {max-height: 200px;max-width: 100%;overflow: auto;}#sk-container-id-3 input.sk-toggleable__control:checked~label.sk-toggleable__label-arrow:before {content: \"▾\";}#sk-container-id-3 div.sk-estimator input.sk-toggleable__control:checked~label.sk-toggleable__label {background-color: #d4ebff;}#sk-container-id-3 div.sk-label input.sk-toggleable__control:checked~label.sk-toggleable__label {background-color: #d4ebff;}#sk-container-id-3 input.sk-hidden--visually {border: 0;clip: rect(1px 1px 1px 1px);clip: rect(1px, 1px, 1px, 1px);height: 1px;margin: -1px;overflow: hidden;padding: 0;position: absolute;width: 1px;}#sk-container-id-3 div.sk-estimator {font-family: monospace;background-color: #f0f8ff;border: 1px dotted black;border-radius: 0.25em;box-sizing: border-box;margin-bottom: 0.5em;}#sk-container-id-3 div.sk-estimator:hover {background-color: #d4ebff;}#sk-container-id-3 div.sk-parallel-item::after {content: \"\";width: 100%;border-bottom: 1px solid gray;flex-grow: 1;}#sk-container-id-3 div.sk-label:hover label.sk-toggleable__label {background-color: #d4ebff;}#sk-container-id-3 div.sk-serial::before {content: \"\";position: absolute;border-left: 1px solid gray;box-sizing: border-box;top: 0;bottom: 0;left: 50%;z-index: 0;}#sk-container-id-3 div.sk-serial {display: flex;flex-direction: column;align-items: center;background-color: white;padding-right: 0.2em;padding-left: 0.2em;position: relative;}#sk-container-id-3 div.sk-item {position: relative;z-index: 1;}#sk-container-id-3 div.sk-parallel {display: flex;align-items: stretch;justify-content: center;background-color: white;position: relative;}#sk-container-id-3 div.sk-item::before, #sk-container-id-3 div.sk-parallel-item::before {content: \"\";position: absolute;border-left: 1px solid gray;box-sizing: border-box;top: 0;bottom: 0;left: 50%;z-index: -1;}#sk-container-id-3 div.sk-parallel-item {display: flex;flex-direction: column;z-index: 1;position: relative;background-color: white;}#sk-container-id-3 div.sk-parallel-item:first-child::after {align-self: flex-end;width: 50%;}#sk-container-id-3 div.sk-parallel-item:last-child::after {align-self: flex-start;width: 50%;}#sk-container-id-3 div.sk-parallel-item:only-child::after {width: 0;}#sk-container-id-3 div.sk-dashed-wrapped {border: 1px dashed gray;margin: 0 0.4em 0.5em 0.4em;box-sizing: border-box;padding-bottom: 0.4em;background-color: white;}#sk-container-id-3 div.sk-label label {font-family: monospace;font-weight: bold;display: inline-block;line-height: 1.2em;}#sk-container-id-3 div.sk-label-container {text-align: center;}#sk-container-id-3 div.sk-container {/* jupyter's `normalize.less` sets `[hidden] { display: none; }` but bootstrap.min.css set `[hidden] { display: none !important; }` so we also need the `!important` here to be able to override the default hidden behavior on the sphinx rendered scikit-learn.org. See: https://github.com/scikit-learn/scikit-learn/issues/21755 */display: inline-block !important;position: relative;}#sk-container-id-3 div.sk-text-repr-fallback {display: none;}</style><div id=\"sk-container-id-3\" class=\"sk-top-container\"><div class=\"sk-text-repr-fallback\"><pre>XGBRegressor(base_score=None, booster=None, callbacks=None,\n",
              "             colsample_bylevel=None, colsample_bynode=None,\n",
              "             colsample_bytree=None, early_stopping_rounds=None,\n",
              "             enable_categorical=False, eval_metric=None, feature_types=None,\n",
              "             gamma=None, gpu_id=None, grow_policy=None, importance_type=None,\n",
              "             interaction_constraints=None, learning_rate=0.1, max_bin=None,\n",
              "             max_cat_threshold=None, max_cat_to_onehot=None,\n",
              "             max_delta_step=None, max_depth=3, max_leaves=None,\n",
              "             min_child_weight=None, missing=nan, monotone_constraints=None,\n",
              "             n_estimators=100, n_jobs=None, num_parallel_tree=None,\n",
              "             predictor=None, random_state=42, ...)</pre><b>In a Jupyter environment, please rerun this cell to show the HTML representation or trust the notebook. <br />On GitHub, the HTML representation is unable to render, please try loading this page with nbviewer.org.</b></div><div class=\"sk-container\" hidden><div class=\"sk-item\"><div class=\"sk-estimator sk-toggleable\"><input class=\"sk-toggleable__control sk-hidden--visually\" id=\"sk-estimator-id-3\" type=\"checkbox\" checked><label for=\"sk-estimator-id-3\" class=\"sk-toggleable__label sk-toggleable__label-arrow\">XGBRegressor</label><div class=\"sk-toggleable__content\"><pre>XGBRegressor(base_score=None, booster=None, callbacks=None,\n",
              "             colsample_bylevel=None, colsample_bynode=None,\n",
              "             colsample_bytree=None, early_stopping_rounds=None,\n",
              "             enable_categorical=False, eval_metric=None, feature_types=None,\n",
              "             gamma=None, gpu_id=None, grow_policy=None, importance_type=None,\n",
              "             interaction_constraints=None, learning_rate=0.1, max_bin=None,\n",
              "             max_cat_threshold=None, max_cat_to_onehot=None,\n",
              "             max_delta_step=None, max_depth=3, max_leaves=None,\n",
              "             min_child_weight=None, missing=nan, monotone_constraints=None,\n",
              "             n_estimators=100, n_jobs=None, num_parallel_tree=None,\n",
              "             predictor=None, random_state=42, ...)</pre></div></div></div></div></div>"
            ]
          },
          "metadata": {},
          "execution_count": 37
        }
      ]
    },
    {
      "cell_type": "code",
      "source": [
        "y_pred = model3.predict(X_test)\n",
        "mse = mean_squared_error(y_test, y_pred)\n",
        "print(f\"Mean Squared Error: {mse}\")\n"
      ],
      "metadata": {
        "colab": {
          "base_uri": "https://localhost:8080/"
        },
        "outputId": "54b6894a-809f-469d-e960-a590d6c851eb",
        "id": "_uY5v8A9TC7n"
      },
      "execution_count": 38,
      "outputs": [
        {
          "output_type": "stream",
          "name": "stdout",
          "text": [
            "Mean Squared Error: 43.71148269699323\n"
          ]
        }
      ]
    },
    {
      "cell_type": "markdown",
      "source": [
        "Hence if a user is able to give \n",
        "\n",
        "---\n",
        "Inputs - \n",
        "1. ALAND10 (Land area)\n",
        "2.  AWATER10 (Water area)\n",
        "3.  UR10 (Urban - rural classification)\n",
        "4.  UATYP10 (Urban type area)\n",
        "5.  INTPTLAT10 (Latitude)\n",
        "6. INTPTLON10 (Longitude)\n",
        "7. Shape_area (Polygon area)\n",
        "8. Shape_len (Polygon length)\n",
        "9. CE02_YR (the number of medium-earning jobs YR) (12 years of data)\n",
        "\n",
        "\n",
        "---\n",
        "\n",
        "\n",
        "Output - \n",
        "\n",
        "They can predict the number of medium-earning jobs in that given area for the next year!\n",
        "\n",
        "\n",
        "\n",
        "---\n",
        "\n",
        "\n",
        "\n",
        "---\n",
        "\n"
      ],
      "metadata": {
        "id": "iIgySGDpTC7n"
      }
    },
    {
      "cell_type": "markdown",
      "source": [
        "# **Model 4 - Predict the number of high-earning jobs (earnings greater than $3333/month) in a given area (Target variable used CE03_YR)**"
      ],
      "metadata": {
        "id": "uaT1F7IBMTDq"
      }
    },
    {
      "cell_type": "markdown",
      "source": [
        "Based on ***'ALAND10', 'AWATER10', 'UR10', 'UATYP10', 'INTPTLAT10', 'INTPTLON10', 'Shape_area', 'Shape_len' and past 12 years of the number of high-earning jobs*** we will predict the ***the number of high-earning jobs for next year***\n",
        "* ALAND10 (Land area)\n",
        "* AWATER10 (Water area)\n",
        "* UR10 (Urban - rural classification)\n",
        "* UATYP10 (Urban type area)\n",
        "* INTPTLAT10 (Latitude)\n",
        "* INTPTLON10 (Longitude)\n",
        "* Shape_area (Polygon area)\n",
        "* Shape_len (Polygon length)\n",
        "* CE03_YR (the number of high-earning jobs YR)\n"
      ],
      "metadata": {
        "id": "zysG5GP8UL3Q"
      }
    },
    {
      "cell_type": "code",
      "source": [
        "past_12_years_columns = [(i<10 and f\"CE03_0{i}\") or f\"CE03_{i}\" for i in range(2,14)]\n",
        "last_year = df[[\"CE03_14\"]] #13th year"
      ],
      "metadata": {
        "id": "BWygmoVGUL3R"
      },
      "execution_count": 39,
      "outputs": []
    },
    {
      "cell_type": "code",
      "source": [
        "past_12_years_columns"
      ],
      "metadata": {
        "colab": {
          "base_uri": "https://localhost:8080/"
        },
        "outputId": "fd16605f-8307-4609-d884-b8fd27100eeb",
        "id": "8cw-7E7sUL3R"
      },
      "execution_count": 40,
      "outputs": [
        {
          "output_type": "execute_result",
          "data": {
            "text/plain": [
              "['CE03_02',\n",
              " 'CE03_03',\n",
              " 'CE03_04',\n",
              " 'CE03_05',\n",
              " 'CE03_06',\n",
              " 'CE03_07',\n",
              " 'CE03_08',\n",
              " 'CE03_09',\n",
              " 'CE03_10',\n",
              " 'CE03_11',\n",
              " 'CE03_12',\n",
              " 'CE03_13']"
            ]
          },
          "metadata": {},
          "execution_count": 40
        }
      ]
    },
    {
      "cell_type": "code",
      "source": [
        "X = df[['ALAND10', 'AWATER10', 'UR10', 'UATYP10', 'INTPTLAT10', 'INTPTLON10', 'Shape_area', 'Shape_len']+past_12_years_columns].convert_dtypes()"
      ],
      "metadata": {
        "id": "6Mz54Q2uUL3R"
      },
      "execution_count": 41,
      "outputs": []
    },
    {
      "cell_type": "code",
      "source": [
        "X.dtypes"
      ],
      "metadata": {
        "colab": {
          "base_uri": "https://localhost:8080/"
        },
        "outputId": "51d80870-164d-469d-c3c8-6663c29f2c3c",
        "id": "H6x0XiwMUL3R"
      },
      "execution_count": 42,
      "outputs": [
        {
          "output_type": "execute_result",
          "data": {
            "text/plain": [
              "ALAND10         Int64\n",
              "AWATER10        Int64\n",
              "UR10           string\n",
              "UATYP10        string\n",
              "INTPTLAT10     string\n",
              "INTPTLON10     string\n",
              "Shape_area    Float64\n",
              "Shape_len     Float64\n",
              "CE03_02         Int64\n",
              "CE03_03         Int64\n",
              "CE03_04         Int64\n",
              "CE03_05         Int64\n",
              "CE03_06         Int64\n",
              "CE03_07         Int64\n",
              "CE03_08         Int64\n",
              "CE03_09         Int64\n",
              "CE03_10         Int64\n",
              "CE03_11         Int64\n",
              "CE03_12         Int64\n",
              "CE03_13         Int64\n",
              "dtype: object"
            ]
          },
          "metadata": {},
          "execution_count": 42
        }
      ]
    },
    {
      "cell_type": "code",
      "source": [
        "X[['UR10','UATYP10']] = X[['UR10','UATYP10']].fillna('missing_value')"
      ],
      "metadata": {
        "id": "VNmJGAjZUL3R"
      },
      "execution_count": 43,
      "outputs": []
    },
    {
      "cell_type": "code",
      "source": [
        "X['INTPTLAT10'] = pd.to_numeric(X['INTPTLAT10'])\n",
        "X['INTPTLON10'] = pd.to_numeric(X['INTPTLON10'])\n",
        "\n",
        "# Encode categorical variables\n",
        "le = LabelEncoder()\n",
        "for column in ['UR10','UATYP10']:\n",
        "    X[column] = le.fit_transform(X[column])\n",
        "\n",
        "# Scale numeric features\n",
        "scaler = StandardScaler()\n",
        "numeric_columns = ['ALAND10', 'AWATER10', 'INTPTLAT10', 'INTPTLON10', 'Shape_area', 'Shape_len']\n",
        "X[numeric_columns] = scaler.fit_transform(X[numeric_columns])"
      ],
      "metadata": {
        "id": "PuUsI3K3UL3R"
      },
      "execution_count": 44,
      "outputs": []
    },
    {
      "cell_type": "code",
      "source": [
        "X.columns"
      ],
      "metadata": {
        "colab": {
          "base_uri": "https://localhost:8080/"
        },
        "outputId": "7d36beac-56d0-4068-bfca-cd7338d35313",
        "id": "W29cetznUL3S"
      },
      "execution_count": 45,
      "outputs": [
        {
          "output_type": "execute_result",
          "data": {
            "text/plain": [
              "Index(['ALAND10', 'AWATER10', 'UR10', 'UATYP10', 'INTPTLAT10', 'INTPTLON10',\n",
              "       'Shape_area', 'Shape_len', 'CE03_02', 'CE03_03', 'CE03_04', 'CE03_05',\n",
              "       'CE03_06', 'CE03_07', 'CE03_08', 'CE03_09', 'CE03_10', 'CE03_11',\n",
              "       'CE03_12', 'CE03_13'],\n",
              "      dtype='object')"
            ]
          },
          "metadata": {},
          "execution_count": 45
        }
      ]
    },
    {
      "cell_type": "code",
      "source": [
        "y=last_year #this is the 13th year (target)"
      ],
      "metadata": {
        "id": "iqD0jIm3UL3S"
      },
      "execution_count": 46,
      "outputs": []
    },
    {
      "cell_type": "code",
      "source": [
        "missing_values = y.isna().sum()\n",
        "print(f\"Number of missing values in the target variable: {missing_values}\")\n"
      ],
      "metadata": {
        "colab": {
          "base_uri": "https://localhost:8080/"
        },
        "outputId": "78a76155-c709-4257-fa9e-c8dc4b9f4c0e",
        "id": "vmaM_WbRUL3S"
      },
      "execution_count": 47,
      "outputs": [
        {
          "output_type": "stream",
          "name": "stdout",
          "text": [
            "Number of missing values in the target variable: CE03_14    0\n",
            "dtype: int64\n"
          ]
        }
      ]
    },
    {
      "cell_type": "code",
      "source": [
        "X_train, X_test, y_train, y_test = train_test_split(X, y, test_size=0.2, random_state=42)\n",
        "model4 = xgb.XGBRegressor(objective='reg:squarederror', n_estimators=100, learning_rate=0.1, max_depth=3, random_state=42)\n",
        "model4.fit(X_train, y_train)\n"
      ],
      "metadata": {
        "colab": {
          "base_uri": "https://localhost:8080/",
          "height": 0
        },
        "outputId": "1cacc60d-46a6-440b-cb4d-2f66f02a0c0b",
        "id": "BFTgIw7gUL3S"
      },
      "execution_count": 48,
      "outputs": [
        {
          "output_type": "execute_result",
          "data": {
            "text/plain": [
              "XGBRegressor(base_score=None, booster=None, callbacks=None,\n",
              "             colsample_bylevel=None, colsample_bynode=None,\n",
              "             colsample_bytree=None, early_stopping_rounds=None,\n",
              "             enable_categorical=False, eval_metric=None, feature_types=None,\n",
              "             gamma=None, gpu_id=None, grow_policy=None, importance_type=None,\n",
              "             interaction_constraints=None, learning_rate=0.1, max_bin=None,\n",
              "             max_cat_threshold=None, max_cat_to_onehot=None,\n",
              "             max_delta_step=None, max_depth=3, max_leaves=None,\n",
              "             min_child_weight=None, missing=nan, monotone_constraints=None,\n",
              "             n_estimators=100, n_jobs=None, num_parallel_tree=None,\n",
              "             predictor=None, random_state=42, ...)"
            ],
            "text/html": [
              "<style>#sk-container-id-4 {color: black;background-color: white;}#sk-container-id-4 pre{padding: 0;}#sk-container-id-4 div.sk-toggleable {background-color: white;}#sk-container-id-4 label.sk-toggleable__label {cursor: pointer;display: block;width: 100%;margin-bottom: 0;padding: 0.3em;box-sizing: border-box;text-align: center;}#sk-container-id-4 label.sk-toggleable__label-arrow:before {content: \"▸\";float: left;margin-right: 0.25em;color: #696969;}#sk-container-id-4 label.sk-toggleable__label-arrow:hover:before {color: black;}#sk-container-id-4 div.sk-estimator:hover label.sk-toggleable__label-arrow:before {color: black;}#sk-container-id-4 div.sk-toggleable__content {max-height: 0;max-width: 0;overflow: hidden;text-align: left;background-color: #f0f8ff;}#sk-container-id-4 div.sk-toggleable__content pre {margin: 0.2em;color: black;border-radius: 0.25em;background-color: #f0f8ff;}#sk-container-id-4 input.sk-toggleable__control:checked~div.sk-toggleable__content {max-height: 200px;max-width: 100%;overflow: auto;}#sk-container-id-4 input.sk-toggleable__control:checked~label.sk-toggleable__label-arrow:before {content: \"▾\";}#sk-container-id-4 div.sk-estimator input.sk-toggleable__control:checked~label.sk-toggleable__label {background-color: #d4ebff;}#sk-container-id-4 div.sk-label input.sk-toggleable__control:checked~label.sk-toggleable__label {background-color: #d4ebff;}#sk-container-id-4 input.sk-hidden--visually {border: 0;clip: rect(1px 1px 1px 1px);clip: rect(1px, 1px, 1px, 1px);height: 1px;margin: -1px;overflow: hidden;padding: 0;position: absolute;width: 1px;}#sk-container-id-4 div.sk-estimator {font-family: monospace;background-color: #f0f8ff;border: 1px dotted black;border-radius: 0.25em;box-sizing: border-box;margin-bottom: 0.5em;}#sk-container-id-4 div.sk-estimator:hover {background-color: #d4ebff;}#sk-container-id-4 div.sk-parallel-item::after {content: \"\";width: 100%;border-bottom: 1px solid gray;flex-grow: 1;}#sk-container-id-4 div.sk-label:hover label.sk-toggleable__label {background-color: #d4ebff;}#sk-container-id-4 div.sk-serial::before {content: \"\";position: absolute;border-left: 1px solid gray;box-sizing: border-box;top: 0;bottom: 0;left: 50%;z-index: 0;}#sk-container-id-4 div.sk-serial {display: flex;flex-direction: column;align-items: center;background-color: white;padding-right: 0.2em;padding-left: 0.2em;position: relative;}#sk-container-id-4 div.sk-item {position: relative;z-index: 1;}#sk-container-id-4 div.sk-parallel {display: flex;align-items: stretch;justify-content: center;background-color: white;position: relative;}#sk-container-id-4 div.sk-item::before, #sk-container-id-4 div.sk-parallel-item::before {content: \"\";position: absolute;border-left: 1px solid gray;box-sizing: border-box;top: 0;bottom: 0;left: 50%;z-index: -1;}#sk-container-id-4 div.sk-parallel-item {display: flex;flex-direction: column;z-index: 1;position: relative;background-color: white;}#sk-container-id-4 div.sk-parallel-item:first-child::after {align-self: flex-end;width: 50%;}#sk-container-id-4 div.sk-parallel-item:last-child::after {align-self: flex-start;width: 50%;}#sk-container-id-4 div.sk-parallel-item:only-child::after {width: 0;}#sk-container-id-4 div.sk-dashed-wrapped {border: 1px dashed gray;margin: 0 0.4em 0.5em 0.4em;box-sizing: border-box;padding-bottom: 0.4em;background-color: white;}#sk-container-id-4 div.sk-label label {font-family: monospace;font-weight: bold;display: inline-block;line-height: 1.2em;}#sk-container-id-4 div.sk-label-container {text-align: center;}#sk-container-id-4 div.sk-container {/* jupyter's `normalize.less` sets `[hidden] { display: none; }` but bootstrap.min.css set `[hidden] { display: none !important; }` so we also need the `!important` here to be able to override the default hidden behavior on the sphinx rendered scikit-learn.org. See: https://github.com/scikit-learn/scikit-learn/issues/21755 */display: inline-block !important;position: relative;}#sk-container-id-4 div.sk-text-repr-fallback {display: none;}</style><div id=\"sk-container-id-4\" class=\"sk-top-container\"><div class=\"sk-text-repr-fallback\"><pre>XGBRegressor(base_score=None, booster=None, callbacks=None,\n",
              "             colsample_bylevel=None, colsample_bynode=None,\n",
              "             colsample_bytree=None, early_stopping_rounds=None,\n",
              "             enable_categorical=False, eval_metric=None, feature_types=None,\n",
              "             gamma=None, gpu_id=None, grow_policy=None, importance_type=None,\n",
              "             interaction_constraints=None, learning_rate=0.1, max_bin=None,\n",
              "             max_cat_threshold=None, max_cat_to_onehot=None,\n",
              "             max_delta_step=None, max_depth=3, max_leaves=None,\n",
              "             min_child_weight=None, missing=nan, monotone_constraints=None,\n",
              "             n_estimators=100, n_jobs=None, num_parallel_tree=None,\n",
              "             predictor=None, random_state=42, ...)</pre><b>In a Jupyter environment, please rerun this cell to show the HTML representation or trust the notebook. <br />On GitHub, the HTML representation is unable to render, please try loading this page with nbviewer.org.</b></div><div class=\"sk-container\" hidden><div class=\"sk-item\"><div class=\"sk-estimator sk-toggleable\"><input class=\"sk-toggleable__control sk-hidden--visually\" id=\"sk-estimator-id-4\" type=\"checkbox\" checked><label for=\"sk-estimator-id-4\" class=\"sk-toggleable__label sk-toggleable__label-arrow\">XGBRegressor</label><div class=\"sk-toggleable__content\"><pre>XGBRegressor(base_score=None, booster=None, callbacks=None,\n",
              "             colsample_bylevel=None, colsample_bynode=None,\n",
              "             colsample_bytree=None, early_stopping_rounds=None,\n",
              "             enable_categorical=False, eval_metric=None, feature_types=None,\n",
              "             gamma=None, gpu_id=None, grow_policy=None, importance_type=None,\n",
              "             interaction_constraints=None, learning_rate=0.1, max_bin=None,\n",
              "             max_cat_threshold=None, max_cat_to_onehot=None,\n",
              "             max_delta_step=None, max_depth=3, max_leaves=None,\n",
              "             min_child_weight=None, missing=nan, monotone_constraints=None,\n",
              "             n_estimators=100, n_jobs=None, num_parallel_tree=None,\n",
              "             predictor=None, random_state=42, ...)</pre></div></div></div></div></div>"
            ]
          },
          "metadata": {},
          "execution_count": 48
        }
      ]
    },
    {
      "cell_type": "code",
      "source": [
        "y_pred = model4.predict(X_test)\n",
        "mse = mean_squared_error(y_test, y_pred)\n",
        "print(f\"Mean Squared Error: {mse}\")\n"
      ],
      "metadata": {
        "colab": {
          "base_uri": "https://localhost:8080/"
        },
        "outputId": "15b33ff1-0d5c-4c51-a833-46f17fb10c3c",
        "id": "w3TIjvCLUL3S"
      },
      "execution_count": 49,
      "outputs": [
        {
          "output_type": "stream",
          "name": "stdout",
          "text": [
            "Mean Squared Error: 105.09684814659398\n"
          ]
        }
      ]
    },
    {
      "cell_type": "markdown",
      "source": [
        "Predictions from Model 1 for Predicting the total number of jobs in all areas combined over a period of 20 years"
      ],
      "metadata": {
        "id": "48NHGTbrrArz"
      }
    },
    {
      "cell_type": "markdown",
      "source": [
        "Hence if a user is able to give \n",
        "\n",
        "---\n",
        "Inputs - \n",
        "1. ALAND10 (Land area)\n",
        "2.  AWATER10 (Water area)\n",
        "3.  UR10 (Urban - rural classification)\n",
        "4.  UATYP10 (Urban type area)\n",
        "5.  INTPTLAT10 (Latitude)\n",
        "6. INTPTLON10 (Longitude)\n",
        "7. Shape_area (Polygon area)\n",
        "8. Shape_len (Polygon length)\n",
        "9. CE03_YR (the number of high-earning jobs YR) (12 years of data)\n",
        "\n",
        "\n",
        "---\n",
        "\n",
        "\n",
        "Output - \n",
        "\n",
        "They can predict the number of high-earning jobs in that given area for the next year!\n",
        "\n",
        "\n",
        "\n",
        "---\n",
        "\n",
        "\n",
        "\n",
        "---\n",
        "\n"
      ],
      "metadata": {
        "id": "8L5CTZTwUL3S"
      }
    },
    {
      "cell_type": "markdown",
      "source": [
        "# Predictions"
      ],
      "metadata": {
        "id": "kCdaNzV1qESf"
      }
    },
    {
      "cell_type": "markdown",
      "source": [
        "Defining a preprocessing function which is common across all models"
      ],
      "metadata": {
        "id": "EcLXAru4x8ho"
      }
    },
    {
      "cell_type": "code",
      "source": [
        "def preprocess(dataf,past_12_years_columns):\n",
        "    X = dataf[['ALAND10', 'AWATER10', 'UR10', 'UATYP10', 'INTPTLAT10', 'INTPTLON10', 'Shape_area', 'Shape_len']+past_12_years_columns].convert_dtypes()\n",
        "    X[['UR10','UATYP10']] = X[['UR10','UATYP10']].fillna('missing_value')\n",
        "    X['INTPTLAT10'] = pd.to_numeric(X['INTPTLAT10'])\n",
        "    X['INTPTLON10'] = pd.to_numeric(X['INTPTLON10'])\n",
        "\n",
        "    # Encode categorical variables\n",
        "    le = LabelEncoder()\n",
        "    for column in ['UR10','UATYP10']:\n",
        "        X[column] = le.fit_transform(X[column])\n",
        "\n",
        "    # Scale numeric features\n",
        "    scaler = StandardScaler()\n",
        "    numeric_columns = ['ALAND10', 'AWATER10', 'INTPTLAT10', 'INTPTLON10', 'Shape_area', 'Shape_len']\n",
        "    X[numeric_columns] = scaler.fit_transform(X[numeric_columns])\n",
        "\n",
        "    return X"
      ],
      "metadata": {
        "id": "WVoxhtGzxBY3"
      },
      "execution_count": 50,
      "outputs": []
    },
    {
      "cell_type": "markdown",
      "source": [
        "Defining a function for making predictions and returning next 3years of predictions"
      ],
      "metadata": {
        "id": "hqAKUhGnyGvQ"
      }
    },
    {
      "cell_type": "code",
      "source": [
        "def predict_using_models(model,initial_X,all_year_column_names):\n",
        "    data1 = initial_X\n",
        "    past_data = []\n",
        "    next_3 = []\n",
        "    for i in range(3):\n",
        "        pred = model.predict(data1)\n",
        "        for i in range(len(all_year_column_names)):\n",
        "            if i == len(all_year_column_names)-1:\n",
        "                data1[all_year_column_names[i]]=pred\n",
        "            else:\n",
        "                data1[all_year_column_names[i]] = [data1[all_year_column_names[i+1]].iloc[0]]\n",
        "        # print(data1[all_year_column_names[0]].iloc[0],data1[all_year_column_names[1]].iloc[0])\n",
        "        next_3.append(pred[0])\n",
        "    return next_3\n"
      ],
      "metadata": {
        "id": "YQURmiI-yGLZ"
      },
      "execution_count": 51,
      "outputs": []
    },
    {
      "cell_type": "markdown",
      "source": [
        "\n",
        "\n",
        "---\n",
        "\n",
        "\n",
        "\n",
        "---\n",
        "\n"
      ],
      "metadata": {
        "id": "voo888TQJAjv"
      }
    },
    {
      "cell_type": "markdown",
      "source": [
        "***Note: Since there are many geographical Regions, we will be making predictions \n",
        "for only one geographical region.***"
      ],
      "metadata": {
        "id": "JKv_4aGJuPam"
      }
    },
    {
      "cell_type": "markdown",
      "source": [
        "MODEL 1 PREDICTIONS ARE BELOW FOR GEOID 360050300004003 (Next 3 years)\n",
        "\n",
        "Model 1 Predicts total number of jobs in a given area"
      ],
      "metadata": {
        "id": "NLXTLU_IBZM2"
      }
    },
    {
      "cell_type": "code",
      "source": [
        "model1_cols = [(i<10 and f\"C000_0{i}\") or f\"C000_{i}\" for i in range(2,14)]\n",
        "print(model1_cols)"
      ],
      "metadata": {
        "colab": {
          "base_uri": "https://localhost:8080/"
        },
        "id": "0XXXgsxLqNbj",
        "outputId": "943c96d6-e9cd-4301-e4d3-c0cf5e37013f"
      },
      "execution_count": 52,
      "outputs": [
        {
          "output_type": "stream",
          "name": "stdout",
          "text": [
            "['C000_02', 'C000_03', 'C000_04', 'C000_05', 'C000_06', 'C000_07', 'C000_08', 'C000_09', 'C000_10', 'C000_11', 'C000_12', 'C000_13']\n"
          ]
        }
      ]
    },
    {
      "cell_type": "markdown",
      "source": [
        "For purpose of predictions, we will be using GEOID10(Unique Geographic code) as 360050300004003."
      ],
      "metadata": {
        "id": "hvxAdBenweVr"
      }
    },
    {
      "cell_type": "code",
      "source": [
        "unproc = df.loc[df['GEOID10']==\"360050300004003\"]\n",
        "model1_data = preprocess(unproc,model1_cols)\n",
        "model1_past = []\n",
        "for i in range(len(model1_cols)):\n",
        "    model1_past.append(model1_data[model1_cols[i]].iloc[0])\n",
        "next_3_preds_model_1 = predict_using_models(model1,model1_data,model1_cols)\n",
        "total_past_plus_next_3_model1 = model1_past+next_3_preds_model_1"
      ],
      "metadata": {
        "id": "OaO7TZogrzxB"
      },
      "execution_count": 53,
      "outputs": []
    },
    {
      "cell_type": "code",
      "source": [
        "next_3_preds_model_1"
      ],
      "metadata": {
        "colab": {
          "base_uri": "https://localhost:8080/"
        },
        "id": "u2hyhFBf5Xdb",
        "outputId": "124396c9-747d-4ec9-c11d-a05267fb7dba"
      },
      "execution_count": 54,
      "outputs": [
        {
          "output_type": "execute_result",
          "data": {
            "text/plain": [
              "[98.59295, 100.94528, 101.450294]"
            ]
          },
          "metadata": {},
          "execution_count": 54
        }
      ]
    },
    {
      "cell_type": "code",
      "source": [
        "model_1_x = range(len(total_past_plus_next_3_model1))\n",
        "model_1_y = total_past_plus_next_3_model1\n",
        "plt.plot(model_1_x, model_1_y)\n",
        "plt.title('Total number of jobs in GEOID=360050300004003')\n",
        "plt.xlabel('Total Jobs')\n",
        "plt.ylabel('Year')\n",
        "plt.show()\n"
      ],
      "metadata": {
        "colab": {
          "base_uri": "https://localhost:8080/",
          "height": 472
        },
        "id": "Ua0XEpYaBxAP",
        "outputId": "4467f906-5899-413c-96d3-bba9efd929e9"
      },
      "execution_count": 55,
      "outputs": [
        {
          "output_type": "display_data",
          "data": {
            "text/plain": [
              "<Figure size 640x480 with 1 Axes>"
            ],
            "image/png": "[encoded data removed]"
          },
          "metadata": {}
        }
      ]
    },
    {
      "cell_type": "markdown",
      "source": [
        "Analysis from the Predictions of Model 1\n",
        "\n",
        "The observed dip in total jobs in the region (GEOID=360050300004003) may have been due to economic downturns, changes in industries present in the area, or other external factors. The recovery, although at a decreasing rate, may indicate that the region is gradually stabilizing, but growth is slowing down.\n",
        "\n"
      ],
      "metadata": {
        "id": "yHBzmMGLK_za"
      }
    },
    {
      "cell_type": "markdown",
      "source": [
        "\n",
        "\n",
        "---\n",
        "\n",
        "\n",
        "\n",
        "---\n",
        "\n",
        "\n",
        "\n",
        "---\n",
        "\n",
        "\n",
        "\n",
        "---\n",
        "\n"
      ],
      "metadata": {
        "id": "ZQehLTMGGjkZ"
      }
    },
    {
      "cell_type": "markdown",
      "source": [
        "MODEL 2 PREDICTIONS ARE BELOW FOR GEOID 360050300004003 (Next 3 years)\n",
        "\n",
        "Model 2 Predicts total number of low-earning jobs in a given area"
      ],
      "metadata": {
        "id": "k7bwJ9AzEgMu"
      }
    },
    {
      "cell_type": "code",
      "source": [
        "model2_cols = [(i<10 and f\"CE01_0{i}\") or f\"CE01_{i}\" for i in range(2,14)]\n",
        "print(model2_cols)"
      ],
      "metadata": {
        "colab": {
          "base_uri": "https://localhost:8080/"
        },
        "outputId": "e5806b5f-99d0-4557-e7be-e65610db81bf",
        "id": "9SfyM2gBEgMv"
      },
      "execution_count": 56,
      "outputs": [
        {
          "output_type": "stream",
          "name": "stdout",
          "text": [
            "['CE01_02', 'CE01_03', 'CE01_04', 'CE01_05', 'CE01_06', 'CE01_07', 'CE01_08', 'CE01_09', 'CE01_10', 'CE01_11', 'CE01_12', 'CE01_13']\n"
          ]
        }
      ]
    },
    {
      "cell_type": "markdown",
      "source": [
        "For purpose of predictions, we will be using GEOID10(Unique Geographic code) as 360050300004003."
      ],
      "metadata": {
        "id": "2TdW0D2DEgMv"
      }
    },
    {
      "cell_type": "code",
      "source": [
        "unproc = df.loc[df['GEOID10']==\"360050300004003\"]\n",
        "model2_data = preprocess(unproc,model2_cols)\n",
        "model2_past = []\n",
        "for i in range(len(model2_cols)):\n",
        "    model2_past.append(model2_data[model2_cols[i]].iloc[0])\n",
        "next_3_preds_model_2 = predict_using_models(model2,model2_data,model2_cols)\n",
        "total_past_plus_next_3_model2 = model2_past+next_3_preds_model_2"
      ],
      "metadata": {
        "id": "C3hePyO8EgMv"
      },
      "execution_count": 57,
      "outputs": []
    },
    {
      "cell_type": "code",
      "source": [
        "next_3_preds_model_2"
      ],
      "metadata": {
        "colab": {
          "base_uri": "https://localhost:8080/"
        },
        "outputId": "98686118-323c-4608-df3b-eece1e15d6a8",
        "id": "1WSRz-N7EgMw"
      },
      "execution_count": 58,
      "outputs": [
        {
          "output_type": "execute_result",
          "data": {
            "text/plain": [
              "[20.22889, 20.188272, 21.056166]"
            ]
          },
          "metadata": {},
          "execution_count": 58
        }
      ]
    },
    {
      "cell_type": "code",
      "source": [
        "model_2_x = range(len(total_past_plus_next_3_model2))\n",
        "model_2_y = total_past_plus_next_3_model2\n",
        "plt.plot(model_2_x, model_2_y)\n",
        "plt.title('Total number of low-earning jobs in GEOID=360050300004003')\n",
        "plt.xlabel('Total number of low-earning Jobs')\n",
        "plt.ylabel('Year')\n",
        "plt.show()\n"
      ],
      "metadata": {
        "colab": {
          "base_uri": "https://localhost:8080/",
          "height": 472
        },
        "outputId": "b65c2af3-b671-4c9a-8844-f950366b8857",
        "id": "gnL04ievEgMw"
      },
      "execution_count": 59,
      "outputs": [
        {
          "output_type": "display_data",
          "data": {
            "text/plain": [
              "<Figure size 640x480 with 1 Axes>"
            ],
            "image/png": "[encoded data removed]"
          },
          "metadata": {}
        }
      ]
    },
    {
      "cell_type": "markdown",
      "source": [
        "Analysis from the Predictions of Model 2\n",
        "\n",
        "The rapid recovery in the number of low-earning jobs could be driven by the expansion of industries that typically offer lower-paying jobs, such as retail or service sectors. Alternatively, it could also reflect that people are accepting lower-paying jobs due to a lack of better opportunities.\n"
      ],
      "metadata": {
        "id": "UDRZv-oBLJzP"
      }
    },
    {
      "cell_type": "markdown",
      "source": [
        "\n",
        "\n",
        "---\n",
        "\n",
        "\n",
        "\n",
        "---\n",
        "\n",
        "\n",
        "\n",
        "---\n",
        "\n",
        "\n",
        "\n",
        "---\n",
        "\n"
      ],
      "metadata": {
        "id": "xWhigNhdGnT7"
      }
    },
    {
      "cell_type": "code",
      "source": [],
      "metadata": {
        "id": "5B0THsQIGo4n"
      },
      "execution_count": 59,
      "outputs": []
    },
    {
      "cell_type": "markdown",
      "source": [
        "MODEL 3 PREDICTIONS ARE BELOW FOR GEOID 360050300004003 (Next 3 years)\n",
        "\n",
        "Model 3 Predicts total number of medium-earning jobs in a given area"
      ],
      "metadata": {
        "id": "GCKAIYR7Gr3n"
      }
    },
    {
      "cell_type": "code",
      "source": [
        "model3_cols = [(i<10 and f\"CE02_0{i}\") or f\"CE02_{i}\" for i in range(2,14)]\n",
        "print(model3_cols)"
      ],
      "metadata": {
        "colab": {
          "base_uri": "https://localhost:8080/"
        },
        "outputId": "2ad04d88-b312-4325-949f-68f4f12c4420",
        "id": "MAFIrASXGr3n"
      },
      "execution_count": 60,
      "outputs": [
        {
          "output_type": "stream",
          "name": "stdout",
          "text": [
            "['CE02_02', 'CE02_03', 'CE02_04', 'CE02_05', 'CE02_06', 'CE02_07', 'CE02_08', 'CE02_09', 'CE02_10', 'CE02_11', 'CE02_12', 'CE02_13']\n"
          ]
        }
      ]
    },
    {
      "cell_type": "markdown",
      "source": [
        "For purpose of predictions, we will be using GEOID10(Unique Geographic code) as 360050300004003."
      ],
      "metadata": {
        "id": "J1jBLusxGr3o"
      }
    },
    {
      "cell_type": "code",
      "source": [
        "unproc = df.loc[df['GEOID10']==\"360050300004003\"]\n",
        "model3_data = preprocess(unproc,model3_cols)\n",
        "model3_past = []\n",
        "for i in range(len(model3_cols)):\n",
        "    model3_past.append(model3_data[model3_cols[i]].iloc[0])\n",
        "next_3_preds_model_3 = predict_using_models(model3,model3_data,model3_cols)\n",
        "total_past_plus_next_3_model3 = model3_past+next_3_preds_model_3"
      ],
      "metadata": {
        "id": "VdYb07ZuGr3o"
      },
      "execution_count": 61,
      "outputs": []
    },
    {
      "cell_type": "code",
      "source": [
        "next_3_preds_model_3"
      ],
      "metadata": {
        "colab": {
          "base_uri": "https://localhost:8080/"
        },
        "outputId": "a6d199ef-45ed-4232-ac84-81044a35c285",
        "id": "ZOhCuEZMGr3o"
      },
      "execution_count": 62,
      "outputs": [
        {
          "output_type": "execute_result",
          "data": {
            "text/plain": [
              "[30.450678, 29.341873, 29.454325]"
            ]
          },
          "metadata": {},
          "execution_count": 62
        }
      ]
    },
    {
      "cell_type": "code",
      "source": [
        "model_3_x = range(len(total_past_plus_next_3_model3))\n",
        "model_3_y = total_past_plus_next_3_model3\n",
        "plt.plot(model_3_x, model_3_y)\n",
        "plt.title('Total number of medium-earning jobs in GEOID=360050300004003')\n",
        "plt.xlabel('Total number of medium-earning Jobs')\n",
        "plt.ylabel('Year')\n",
        "plt.show()\n"
      ],
      "metadata": {
        "colab": {
          "base_uri": "https://localhost:8080/",
          "height": 472
        },
        "outputId": "32cfb363-bbf8-410d-ad1c-9d9d4f1edba0",
        "id": "ZSwamrArGr3o"
      },
      "execution_count": 63,
      "outputs": [
        {
          "output_type": "display_data",
          "data": {
            "text/plain": [
              "<Figure size 640x480 with 1 Axes>"
            ],
            "image/png": "[encoded data removed]"
          },
          "metadata": {}
        }
      ]
    },
    {
      "cell_type": "markdown",
      "source": [
        "Analysis from the Predictions of Model 3\n",
        "\n",
        "The continuous decline in medium-earning jobs over the past 14 years may suggest a shift in the region's economy, with jobs moving to either the low-earning or high-earning categories. This trend might be indicative of growing income inequality, with middle-class jobs being replaced by lower-paying jobs or highly specialized, high-paying jobs.\n",
        "\n"
      ],
      "metadata": {
        "id": "ZwG6We31LPvw"
      }
    },
    {
      "cell_type": "markdown",
      "source": [
        "\n",
        "\n",
        "---\n",
        "\n",
        "\n",
        "\n",
        "---\n",
        "\n",
        "\n",
        "\n",
        "---\n",
        "\n",
        "\n",
        "\n",
        "---\n",
        "\n"
      ],
      "metadata": {
        "id": "NBWIZzfzHSRU"
      }
    },
    {
      "cell_type": "code",
      "source": [],
      "metadata": {
        "id": "biU6hoNEHVeZ"
      },
      "execution_count": 63,
      "outputs": []
    },
    {
      "cell_type": "markdown",
      "source": [
        "MODEL 4 PREDICTIONS ARE BELOW FOR GEOID 360050300004003 (Next 3 years)\n",
        "\n",
        "Model 4 Predicts total number of high-earning jobs in a given area"
      ],
      "metadata": {
        "id": "q_3S0CU-HXz-"
      }
    },
    {
      "cell_type": "code",
      "source": [
        "model4_cols = [(i<10 and f\"CE03_0{i}\") or f\"CE03_{i}\" for i in range(2,14)]\n",
        "print(model4_cols)"
      ],
      "metadata": {
        "colab": {
          "base_uri": "https://localhost:8080/"
        },
        "outputId": "3f8289d3-5d98-41af-f2bf-d2b563349014",
        "id": "YZjVGhkkHXz_"
      },
      "execution_count": 64,
      "outputs": [
        {
          "output_type": "stream",
          "name": "stdout",
          "text": [
            "['CE03_02', 'CE03_03', 'CE03_04', 'CE03_05', 'CE03_06', 'CE03_07', 'CE03_08', 'CE03_09', 'CE03_10', 'CE03_11', 'CE03_12', 'CE03_13']\n"
          ]
        }
      ]
    },
    {
      "cell_type": "markdown",
      "source": [
        "For purpose of predictions, we will be using GEOID10(Unique Geographic code) as 360050300004003."
      ],
      "metadata": {
        "id": "9wefJ5odHXz_"
      }
    },
    {
      "cell_type": "code",
      "source": [
        "unproc = df.loc[df['GEOID10']==\"360050300004003\"]\n",
        "model4_data = preprocess(unproc,model4_cols)\n",
        "model4_past = []\n",
        "for i in range(len(model4_cols)):\n",
        "    model4_past.append(model4_data[model4_cols[i]].iloc[0])\n",
        "next_3_preds_model_4 = predict_using_models(model4,model4_data,model4_cols)\n",
        "total_past_plus_next_3_model4 = model4_past+next_3_preds_model_4"
      ],
      "metadata": {
        "id": "SNdwyKjYHXz_"
      },
      "execution_count": 65,
      "outputs": []
    },
    {
      "cell_type": "code",
      "source": [
        "next_3_preds_model_4"
      ],
      "metadata": {
        "colab": {
          "base_uri": "https://localhost:8080/"
        },
        "outputId": "74bed16c-c49e-4d54-a846-57634fd92302",
        "id": "DT7y3O2iHXz_"
      },
      "execution_count": 66,
      "outputs": [
        {
          "output_type": "execute_result",
          "data": {
            "text/plain": [
              "[50.833633, 50.89897, 52.725636]"
            ]
          },
          "metadata": {},
          "execution_count": 66
        }
      ]
    },
    {
      "cell_type": "code",
      "source": [
        "model_4_x = range(len(total_past_plus_next_3_model4))\n",
        "model_4_y = total_past_plus_next_3_model4\n",
        "plt.plot(model_4_x, model_4_y)\n",
        "plt.title('Total number of high-earning jobs in GEOID=360050300004003')\n",
        "plt.xlabel('Total number of high-earning Jobs')\n",
        "plt.ylabel('Year')\n",
        "plt.show()\n"
      ],
      "metadata": {
        "colab": {
          "base_uri": "https://localhost:8080/",
          "height": 472
        },
        "outputId": "a5ef49c8-ad51-46d8-94fb-fca9ea9d5fce",
        "id": "6J6xWVweHXz_"
      },
      "execution_count": 67,
      "outputs": [
        {
          "output_type": "display_data",
          "data": {
            "text/plain": [
              "<Figure size 640x480 with 1 Axes>"
            ],
            "image/png": "[encoded data removed]"
          },
          "metadata": {}
        }
      ]
    },
    {
      "cell_type": "markdown",
      "source": [
        "Analysis from the Predictions of Model 4\n",
        "\n",
        "The steady increase in high-earning jobs could be a result of the growth of specific industries or sectors in the region, such as technology, finance, or healthcare. This trend might be contributing to the decline in medium-earning jobs, as more specialized and highly skilled positions are created."
      ],
      "metadata": {
        "id": "kXieltM3LVVJ"
      }
    },
    {
      "cell_type": "markdown",
      "source": [
        "# **Conclusion (Usecase)**"
      ],
      "metadata": {
        "id": "O80PkVQlVHxc"
      }
    },
    {
      "cell_type": "markdown",
      "source": [
        "*Predicting the number of jobs in different categories (total, low-earning, medium-earning, and high-earning) in a given area can have various financial use cases:*\n",
        "\n",
        "1. **Economic development**: Understanding the distribution of jobs and their earnings can help local governments and organizations develop strategies to attract new businesses and investments, promoting economic growth in the area.\n",
        "\n",
        "2. **Real estate market analysis**: Predicting job growth and the distribution of earnings can help real estate developers, investors, and agents make informed decisions about property investments, pricing, and marketing. Areas with a higher number of high-earning jobs may see increased demand for luxury housing, while areas with more low-earning jobs may have higher demand for affordable housing.\n",
        "\n",
        "3. **Workforce development**: Predicting the number and types of jobs in an area can help educational institutions, training centers, and workforce development agencies to tailor their programs and resources to meet the needs of the local job market. For example, if there is a high demand for medium-earning jobs in a specific field, training centers can develop targeted programs to help individuals gain the necessary skills for those jobs.\n",
        "\n",
        "4. **Infrastructure planning**: Predicting job growth can inform city planners and transportation agencies as they design and invest in public infrastructure, such as roads, public transportation, and utility services. Understanding the distribution of jobs and their earnings can help them prioritize projects based on areas with the greatest need.\n",
        "\n",
        "5. **Financial services**: Banks, credit unions, and other financial institutions can use job distribution predictions to evaluate the creditworthiness of potential borrowers in a given area, as well as to identify opportunities for offering new financial products and services.\n",
        "\n",
        "\n",
        "\n",
        "---\n",
        "\n",
        "End of Predictive Modelling\n",
        "\n",
        "---\n",
        "\n",
        "\n",
        "\n",
        "\n"
      ],
      "metadata": {
        "id": "tsOifh-mVjsP"
      }
    }
  ]
}